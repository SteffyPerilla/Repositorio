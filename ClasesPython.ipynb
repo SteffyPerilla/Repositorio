{
  "nbformat": 4,
  "nbformat_minor": 0,
  "metadata": {
    "colab": {
      "name": "Untitled0.ipynb",
      "provenance": [],
      "authorship_tag": "ABX9TyN3JSXLM9SIix7zjYtaOHa6",
      "include_colab_link": true
    },
    "kernelspec": {
      "name": "python3",
      "display_name": "Python 3"
    }
  },
  "cells": [
    {
      "cell_type": "markdown",
      "metadata": {
        "id": "view-in-github",
        "colab_type": "text"
      },
      "source": [
        "<a href=\"https://colab.research.google.com/github/SteffyPerilla/Repositorio/blob/master/ClasesPython.ipynb\" target=\"_parent\"><img src=\"https://colab.research.google.com/assets/colab-badge.svg\" alt=\"Open In Colab\"/></a>"
      ]
    },
    {
      "cell_type": "code",
      "metadata": {
        "id": "sgjI7tRggw50",
        "colab_type": "code",
        "colab": {},
        "cellView": "code"
      },
      "source": [
        "numero = int(input(\"Ingrese el numero \"))\n",
        "pasos=0\n",
        "if numero > 0:\n",
        "  cO = numero\n",
        "  while cO != 1:\n",
        "    pasos+=1\n",
        "    if cO %2 == 0:\n",
        "      cO /= 2\n",
        "      print(cO)\n",
        "    elif cO %2 != 0:\n",
        "      cO = (3 * cO) + 1\n",
        "      print(cO)  \n",
        "  else:\n",
        "    print(\"Pasos= \",pasos)\n"
      ],
      "execution_count": 0,
      "outputs": []
    },
    {
      "cell_type": "code",
      "metadata": {
        "id": "PBsnwBzGyG1c",
        "colab_type": "code",
        "colab": {}
      },
      "source": [
        "bloques = int(input(\"Ingrese el numero \"))\n",
        "altura=0\n",
        "cubos=0\n",
        "while bloques > 3:\n",
        "  altura+=1\n",
        "  cubos+=altura\n",
        "  if cubos>bloques:\n",
        "    altura-=1\n",
        "    break\n",
        "  elif cubos==bloques:\n",
        "    altura=altura\n",
        "    break\n",
        "else:\n",
        "  print(\"Nada\")\n",
        "\n",
        "print(altura)"
      ],
      "execution_count": 0,
      "outputs": []
    }
  ]
}